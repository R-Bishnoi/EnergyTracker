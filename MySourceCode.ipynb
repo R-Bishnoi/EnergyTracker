{
 "cells": [
  {
   "cell_type": "markdown",
   "id": "713cbbc1",
   "metadata": {},
   "source": [
    "# Single Application Power consumption Measurement\n"
   ]
  },
  {
   "cell_type": "code",
   "execution_count": 8,
   "id": "7e1a0670",
   "metadata": {},
   "outputs": [
    {
     "name": "stdout",
     "output_type": "stream",
     "text": [
      "Type the name of the single application for measuring power consumption: svchost\n",
      "Application name:  svchost\n",
      "Power consumption of single application :  5.420921875\n",
      "Total Power Consumption :  10225474.764828123\n",
      "%power consumed by single application 5.301388932713403e-05\n"
     ]
    },
    {
     "data": {
      "image/png": "[encoded data removed]",
      "text/plain": [
       "<Figure size 432x288 with 1 Axes>"
      ]
     },
     "metadata": {
      "needs_background": "light"
     },
     "output_type": "display_data"
    },
    {
     "data": {
      "image/png": "[encoded data removed]",
      "text/plain": [
       "<Figure size 432x288 with 1 Axes>"
      ]
     },
     "metadata": {
      "needs_background": "light"
     },
     "output_type": "display_data"
    }
   ],
   "source": [
    "#psutil (process and system utilities) library\n",
    "import psutil\n",
    "import matplotlib.pyplot as plt\n",
    "\n",
    "\n",
    "#get_process_pids function return the list of process id which is related to particular single application \n",
    "def get_process_pids(process_name):\n",
    "    #process or single application file extension\n",
    "    extension=\".exe\"\n",
    "    #add the extension at the end off application name\n",
    "    process=process_name+extension\n",
    "    #Take a list which store the all processes of single application which are currently running\n",
    "    List=[]\n",
    "    \n",
    "    #psutil.process_iter function iterate over all running processes on the system.\n",
    "    for proc in psutil.process_iter():\n",
    "        #exception handling using try and except\n",
    "        try:\n",
    "            #iterate all process name (currently in running state) and matching with the input process name\n",
    "            if proc.name() == process:\n",
    "                #when we get desired process just append in to the List\n",
    "                List.append(proc.pid)\n",
    "        \n",
    "        #any abnormal situation occure just pass\n",
    "        except (psutil.NoSuchProcess, psutil.AccessDenied, psutil.ZombieProcess):\n",
    "            pass\n",
    "    #return the list of process id's\n",
    "    return List\n",
    "\n",
    "\n",
    "\n",
    "#power consumption function measure the power consumed by single application and also total power consumption by all\n",
    "#running application\n",
    "def Power_consumption(pids_list):\n",
    "    #varible of power_consumption by process intialize with 0\n",
    "    single_Application_power_consumption = 0\n",
    "    # Initialize a variable to store the total energy consumed\n",
    "    total_power_consumed = 0\n",
    "\n",
    "    # Iterate over all running processes\n",
    "    for proc in psutil.process_iter():\n",
    "        #exception handling using try and except\n",
    "        try:\n",
    "            # Get the process information\n",
    "            process = psutil.Process(proc.pid)\n",
    "            info = process.as_dict(attrs=['pid', 'name', 'cpu_times'])\n",
    "            # Get the CPU times for the process\n",
    "            cpu_times = info['cpu_times']\n",
    "            # Calculate the duration of the process\n",
    "            duration = cpu_times.user + cpu_times.system\n",
    "            # Calculate the energy consumed by the process\n",
    "            energy = duration * proc.cpu_percent() / 100\n",
    "            # Add the energy consumed by this process to the total energy\n",
    "            total_power_consumed += energy\n",
    "            \n",
    "            #if the current pid is related to single application \n",
    "            if(proc.pid in pids_list):\n",
    "                single_Application_power_consumption+=energy\n",
    "                \n",
    "        except (psutil.NoSuchProcess, psutil.AccessDenied, psutil.ZombieProcess):\n",
    "            pass\n",
    "    # Return the ans list which contains both value single ans well as total energy consumption\n",
    "    ans_List = []\n",
    "    ans_List.append(single_Application_power_consumption)\n",
    "    ans_List.append(total_power_consumed)\n",
    "    \n",
    "    #return ans list\n",
    "    return ans_List\n",
    "\n",
    "\n",
    "\n",
    "\n",
    "#power_consumption function of single application \n",
    "def power_consumption_measurement():\n",
    "    #take the input as a single application name for measuring the power consumption\n",
    "    process_name = input('Type the name of the single application for measuring power consumption: ')\n",
    "    print(\"Application name: \", process_name)\n",
    "    \n",
    "    #call the get_process_pid function \n",
    "    pids = get_process_pids(process_name)\n",
    "\n",
    "      \n",
    "    #call the function for power consumptio with the help of psutil python library\n",
    "    power_consumption = Power_consumption(pids)\n",
    "    \n",
    "    #single application power consumption\n",
    "    print(\"Power consumption of single application : \", power_consumption[0]);\n",
    "    \n",
    "    #calculate total power consumption\n",
    "    print(\"Total Power Consumption : \",power_consumption[1])\n",
    "    \n",
    "    power_consumption_ratio = ( power_consumption[0]/power_consumption[1])*100\n",
    "    print(\"%power consumed by single application\",power_consumption_ratio)\n",
    "    \n",
    "    # Data\n",
    "    application_power = power_consumption[0]\n",
    "    total_power = power_consumption[1]\n",
    "\n",
    "    # Create a bar chart\n",
    "    plt.bar([\"Application\", \"Total\"], [application_power, total_power])\n",
    "\n",
    "    # Add axis labels\n",
    "    plt.xlabel(\"Power Consumption\")\n",
    "    plt.ylabel(\"Power (Watts)\")\n",
    "\n",
    "    # Add title and legend\n",
    "    plt.title(\"Power Consumption\")\n",
    "    plt.legend([\"Application\", \"Total\"])\n",
    "\n",
    "    # Display the graph\n",
    "    plt.show()\n",
    "    \n",
    "    #bar graph\n",
    "    application_power_percentage = (application_power/total_power)*100\n",
    "    plt.bar([\"Application\", \"Total\"], [application_power, total_power],label=[f'{application_power_percentage} %',''])\n",
    "\n",
    "    \n",
    "    \n",
    "#call the power_consumption\n",
    "power_consumption_measurement()\n",
    "\n",
    "\n"
   ]
  },
  {
   "cell_type": "code",
   "execution_count": null,
   "id": "f667f88f",
   "metadata": {},
   "outputs": [],
   "source": []
  }
 ],
 "metadata": {
  "kernelspec": {
   "display_name": "Python 3 (ipykernel)",
   "language": "python",
   "name": "python3"
  },
  "language_info": {
   "codemirror_mode": {
    "name": "ipython",
    "version": 3
   },
   "file_extension": ".py",
   "mimetype": "text/x-python",
   "name": "python",
   "nbconvert_exporter": "python",
   "pygments_lexer": "ipython3",
   "version": "3.9.7"
  }
 },
 "nbformat": 4,
 "nbformat_minor": 5
}
